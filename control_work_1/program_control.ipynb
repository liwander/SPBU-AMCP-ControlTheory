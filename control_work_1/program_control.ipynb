{
 "cells": [
  {
   "cell_type": "markdown",
   "metadata": {},
   "source": [
    "## Input problem data and imported libs"
   ]
  },
  {
   "cell_type": "code",
   "execution_count": 21,
   "metadata": {},
   "outputs": [
    {
     "name": "stdout",
     "output_type": "stream",
     "text": [
      "A: \n",
      "Matrix([\n",
      "[ 2, -16, -6],\n",
      "[ 1,  -8, -3],\n",
      "[-2,  16,  6]])\n",
      "\n",
      "B: \n",
      "Matrix([\n",
      "[ 1],\n",
      "[ 0],\n",
      "[-2]])\n",
      "\n"
     ]
    }
   ],
   "source": [
    "import sympy as sp\n",
    "import numpy as np\n",
    "\n",
    "t = sp.symbols('t')\n",
    "\n",
    "# A = sp.Matrix([[6, -15, 12], [4, -10, 8], [2, -5, 4]])\n",
    "# B = sp.Matrix([1, 0, 1])\n",
    "# F = sp.Matrix([12*t, 0, 12*t])\n",
    "# x0 = sp.Matrix([2, 1, -1])\n",
    "# x1 = sp.Matrix([-13, -9, -9])\n",
    "# T = 1\n",
    "\n",
    "# A = sp.Matrix([[0, 2], [-2, 0]])\n",
    "# B = sp.Matrix([1, 2])\n",
    "# F = sp.Matrix([0, 0])\n",
    "# x0 = sp.Matrix([5, 0])\n",
    "# x1 = sp.Matrix([10, 5])\n",
    "# T = sp.pi\n",
    "\n",
    "A = sp.Matrix([[2, -16, -6], [1, -8, -3] , [-2, 16, 6]])\n",
    "B = sp.Matrix([1, 0, -2])\n",
    "F = sp.Matrix([0, -7*t, -14*t])\n",
    "x0 = sp.Matrix([2, 0, -1])\n",
    "x1 = sp.Matrix([13, 5, -13])\n",
    "T = 1\n",
    "\n",
    "dim = A.shape[0]\n",
    "\n",
    "print(f'A: \\n{repr(A)}\\n')\n",
    "print(f'B: \\n{repr(B)}\\n')"
   ]
  },
  {
   "cell_type": "markdown",
   "metadata": {},
   "source": [
    "## Matrix A charpoly and eigenvalues"
   ]
  },
  {
   "cell_type": "code",
   "execution_count": 22,
   "metadata": {},
   "outputs": [
    {
     "name": "stdout",
     "output_type": "stream",
     "text": [
      "[1]\n",
      "{0: 3}\n"
     ]
    }
   ],
   "source": [
    "theta = sp.symbols('theta')\n",
    "chpoly = A.charpoly(theta).coeffs()\n",
    "print(chpoly)\n",
    "eigs = A.eigenvals() \n",
    "print(eigs)"
   ]
  },
  {
   "cell_type": "markdown",
   "metadata": {},
   "source": [
    "## Fundamental matrix calculation"
   ]
  },
  {
   "cell_type": "code",
   "execution_count": 23,
   "metadata": {},
   "outputs": [
    {
     "name": "stdout",
     "output_type": "stream",
     "text": [
      "system: \n",
      "[1 - b0, -b1 + t, -2*b2 + t**2]\n",
      "\n",
      "solution: \n",
      "{b0: 1, b1: t, b2: t**2/2}\n",
      "\n",
      "Fundamental matrix: \n",
      "Matrix([\n",
      "[2*t + 1,   -16*t,    -6*t],\n",
      "[      t, 1 - 8*t,    -3*t],\n",
      "[   -2*t,    16*t, 6*t + 1]])\n"
     ]
    }
   ],
   "source": [
    "eqs = []\n",
    "omega = sp.symbols('omega')\n",
    "b = sp.symbols('b0:%d'%dim)\n",
    "def lamda_power_list(dim) : return np.array([omega ** (i) for i in range(dim)])\n",
    "\n",
    "for eig, mult in eigs.items():\n",
    "    lpl = lamda_power_list(dim)\n",
    "    # print(lpl)\n",
    "    eq = sp.exp(omega * t) - np.dot(b, lpl)\n",
    "    eqs.append(eq)\n",
    "    if mult > 1:\n",
    "        for i in range(1, mult):\n",
    "            # lpl = lamda_power_list(lamda, dim, 0)\n",
    "            # eq = (t ** i) * sp.E ** (lamda * t) - np.dot(b[i:], lpl) \n",
    "            eqs.append(sp.diff(eqs[-1], omega)) \n",
    "\n",
    "    for i in range(dim):\n",
    "        eqs[-i] = eqs[-i].subs({omega :eig})\n",
    "\n",
    "print(f'system: \\n{eqs}\\n')\n",
    "\n",
    "b_dict = sp.solve(eqs, b)\n",
    "print(f'solution: \\n{b_dict}\\n')\n",
    "b_val = sp.zeros(rows=1, cols=dim)\n",
    "for i in range(dim):\n",
    "    b_val[i] = b_dict[b[i]]\n",
    "\n",
    "Y = sp.zeros(dim, dim)\n",
    "for i in range(dim):\n",
    "    Y += (A ** i) * b_val[i]\n",
    "print(f'Fundamental matrix: \\n{repr(Y)}')\n"
   ]
  },
  {
   "cell_type": "markdown",
   "metadata": {},
   "source": [
    "## Calculating vector c for program control"
   ]
  },
  {
   "cell_type": "code",
   "execution_count": 24,
   "metadata": {},
   "outputs": [
    {
     "name": "stdout",
     "output_type": "stream",
     "text": [
      "Y^(-1) :Matrix([\n",
      "[1 - 2*t,    16*t,     6*t],\n",
      "[     -t, 8*t + 1,     3*t],\n",
      "[    2*t,   -16*t, 1 - 6*t]])\n",
      "Q: \n",
      "Matrix([\n",
      "[1 - 14*t],\n",
      "[    -7*t],\n",
      "[14*t - 2]])\n",
      "\n",
      "P: \n",
      "Matrix([\n",
      "[ 157/3, 175/6, -139/3],\n",
      "[ 175/6,  49/3,  -77/3],\n",
      "[-139/3, -77/3,  124/3]])\n",
      "\n",
      "N: \n",
      "Matrix([\n",
      "[ 157/3],\n",
      "[ 175/6],\n",
      "[-139/3]])\n",
      "\n"
     ]
    }
   ],
   "source": [
    "Y_inv = Y.inv()\n",
    "print(f'Y^(-1) :{repr(Y_inv)}')\n",
    "Q = Y_inv * B\n",
    "print(f'Q: \\n{repr(Q)}\\n')\n",
    "P = sp.integrate(Q * sp.transpose(Q), (t, 0, T))\n",
    "print(f'P: \\n{repr(P)}\\n')\n",
    "N = Y_inv.subs({t : T}) * x1 - x0 - sp.integrate(Y_inv * F, (t, 0, T))\n",
    "print(f'N: \\n{repr(N)}\\n')"
   ]
  },
  {
   "cell_type": "code",
   "execution_count": 25,
   "metadata": {},
   "outputs": [
    {
     "name": "stdout",
     "output_type": "stream",
     "text": [
      "Matrix([[2*c2 + 1], [-2*c2], [c2]])\n",
      "transpose(Q) * c: \n",
      "Matrix([[1 - 14*t]])\n"
     ]
    }
   ],
   "source": [
    "c_var = sp.symbols('c0:%d'%dim)\n",
    "C = sp.Matrix(c_var)\n",
    "\n",
    "c = sp.zeros(dim, 1)\n",
    "system_solution = sp.solve(P * C - N, c_var, set=True)[1]\n",
    "if len(system_solution) != 0:\n",
    "    c = sp.Matrix(next(iter(system_solution)))\n",
    "    print(c)\n",
    "else:\n",
    "    print('There is no programm control')\n",
    "    \n",
    "print(f'transpose(Q) * c: \\n{repr(sp.simplify(sp.transpose(Q) * c))}')"
   ]
  }
 ],
 "metadata": {
  "kernelspec": {
   "display_name": "Python 3",
   "language": "python",
   "name": "python3"
  },
  "language_info": {
   "codemirror_mode": {
    "name": "ipython",
    "version": 3
   },
   "file_extension": ".py",
   "mimetype": "text/x-python",
   "name": "python",
   "nbconvert_exporter": "python",
   "pygments_lexer": "ipython3",
   "version": "3.10.12"
  }
 },
 "nbformat": 4,
 "nbformat_minor": 2
}
