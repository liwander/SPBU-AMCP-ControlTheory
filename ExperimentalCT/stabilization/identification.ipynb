{
 "cells": [
  {
   "cell_type": "code",
   "execution_count": 10,
   "metadata": {},
   "outputs": [
    {
     "name": "stdout",
     "output_type": "stream",
     "text": [
      "c: \n",
      "[[-6. -5. -4. -0.]]\n",
      "\n",
      "Cbar: \n",
      "[[-11.  15.  -6.  15.]]\n",
      "\n",
      "K: \n",
      "[[ 0.  1.  1.  1.]\n",
      " [ 0.  0.  0. -1.]\n",
      " [ 1.  1.  1.  1.]\n",
      " [ 0.  0. -1. -1.]]\n",
      "\n",
      "P0: \n",
      "[[ 0.  0.  0. -1.]\n",
      " [ 1.  0.  0.  0.]\n",
      " [ 0.  1.  0. -1.]\n",
      " [ 0.  0.  1.  2.]]\n",
      "\n",
      "Q0: \n",
      "[[1.]\n",
      " [0.]\n",
      " [0.]\n",
      " [0.]]\n",
      "\n",
      "T: \n",
      "[[ 1. -2.  1. -0.]\n",
      " [ 0.  1. -2.  1.]\n",
      " [ 0.  0.  1. -2.]\n",
      " [ 0.  0.  0.  1.]]\n",
      "\n",
      "Pbar: \n",
      "[[ 2. -1.  0. -1.]\n",
      " [ 1.  0.  0.  0.]\n",
      " [ 0.  1.  0.  0.]\n",
      " [ 0.  0.  1.  0.]]\n",
      "\n",
      "Asymptotic identificator matrix: \n",
      "[[  0.   0. -11.  -1.]\n",
      " [  0.   1.  16.   0.]\n",
      " [  1.   0.  -5.   0.]\n",
      " [ 17.  16.  47.  -6.]]\n",
      "L: \n",
      " [[-11.]\n",
      " [ 15.]\n",
      " [ -6.]\n",
      " [ 15.]]\n",
      "\n",
      "array([[  0.,   0., -11.,   0.],\n",
      "       [  0.,   0.,  15.,   0.],\n",
      "       [  0.,   0.,  -6.,   0.],\n",
      "       [  0.,   0.,  15.,   0.]])\n"
     ]
    }
   ],
   "source": [
    "from problem import *\n",
    "from stabilization_regulator import regulator\n",
    "\n",
    "res_stab = regulator(P, Q, lamdas)\n",
    "res_id = regulator(P.T, R.T, lamdas)\n",
    "for matr_name, matr in res_id.items():\n",
    "    print(f\"{matr_name}: \\n{matr}\\n\")\n",
    "print(f\"Asymptotic identificator matrix: \\n{P + Q @ res_stab['Cbar'] + res_id['Cbar'].T @ R}\")\n",
    "print(f\"L: \\n {res_id['Cbar'].T}\\n\")\n",
    "print(repr(res_id['Cbar'].T @ R))"
   ]
  }
 ],
 "metadata": {
  "kernelspec": {
   "display_name": "Python 3",
   "language": "python",
   "name": "python3"
  },
  "language_info": {
   "codemirror_mode": {
    "name": "ipython",
    "version": 3
   },
   "file_extension": ".py",
   "mimetype": "text/x-python",
   "name": "python",
   "nbconvert_exporter": "python",
   "pygments_lexer": "ipython3",
   "version": "3.10.12"
  }
 },
 "nbformat": 4,
 "nbformat_minor": 2
}
