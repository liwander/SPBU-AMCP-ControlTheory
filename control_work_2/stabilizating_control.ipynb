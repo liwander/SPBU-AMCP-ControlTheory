{
 "cells": [
  {
   "cell_type": "code",
   "execution_count": 1,
   "metadata": {},
   "outputs": [],
   "source": [
    "from problem import *\n",
    "from stabilization_regulator import regulator"
   ]
  },
  {
   "cell_type": "code",
   "execution_count": 2,
   "metadata": {},
   "outputs": [
    {
     "name": "stdout",
     "output_type": "stream",
     "text": [
      "c: \n",
      "[[-6.  1. -5.]]\n",
      "\n",
      "Cbar: \n",
      "[[-10.  11.  -6.]]\n",
      "\n",
      "K: \n",
      "[[ 0.  0.  1.]\n",
      " [ 0. -1. -2.]\n",
      " [ 1.  1.  0.]]\n",
      "\n",
      "P0: \n",
      "[[ 0.  0.  4.]\n",
      " [ 1.  0. -4.]\n",
      " [ 0.  1.  3.]]\n",
      "\n",
      "Q0: \n",
      "[[1.]\n",
      " [0.]\n",
      " [0.]]\n",
      "\n",
      "T: \n",
      "[[ 1. -3.  4.]\n",
      " [ 0.  1. -3.]\n",
      " [ 0.  0.  1.]]\n",
      "\n",
      "Pbar: \n",
      "[[ 3. -4.  4.]\n",
      " [ 1.  0. -0.]\n",
      " [ 0.  1.  0.]]\n",
      "\n"
     ]
    }
   ],
   "source": [
    "res = regulator(P_stab, Q_stab, lamdas_stab)\n",
    "for matr_name, matr in res.items():\n",
    "    print(f'{matr_name}: \\n{matr}\\n')"
   ]
  }
 ],
 "metadata": {
  "kernelspec": {
   "display_name": "Python 3",
   "language": "python",
   "name": "python3"
  },
  "language_info": {
   "codemirror_mode": {
    "name": "ipython",
    "version": 3
   },
   "file_extension": ".py",
   "mimetype": "text/x-python",
   "name": "python",
   "nbconvert_exporter": "python",
   "pygments_lexer": "ipython3",
   "version": "3.10.12"
  }
 },
 "nbformat": 4,
 "nbformat_minor": 2
}
