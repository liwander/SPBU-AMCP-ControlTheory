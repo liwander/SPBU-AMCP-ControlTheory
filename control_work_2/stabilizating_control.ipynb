{
 "cells": [
  {
   "cell_type": "code",
   "execution_count": 1,
   "metadata": {},
   "outputs": [],
   "source": [
    "import numpy as np\n",
    "from stabilization_regulator import regulator\n",
    "\n",
    "P = np.array([[-1, 0, 1, 0],[1, 0, 0, 1],[ 1, 0, 0, 0],[ 0, -1, 0, 0]])\n",
    "Q = np.transpose(np.array([[0, 0, 1, 0]]))\n",
    "lamdas = np.array([-1, -1, -1, -1])"
   ]
  },
  {
   "cell_type": "code",
   "execution_count": 2,
   "metadata": {},
   "outputs": [
    {
     "name": "stdout",
     "output_type": "stream",
     "text": [
      "Backward connection matrix for control vector [[-3. -0. -3. -4.]]\n"
     ]
    }
   ],
   "source": [
    "regulator = regulator(P, Q, lamdas)\n",
    "print(f'Backward connection matrix for control vector {regulator}')"
   ]
  }
 ],
 "metadata": {
  "kernelspec": {
   "display_name": "Python 3",
   "language": "python",
   "name": "python3"
  },
  "language_info": {
   "codemirror_mode": {
    "name": "ipython",
    "version": 3
   },
   "file_extension": ".py",
   "mimetype": "text/x-python",
   "name": "python",
   "nbconvert_exporter": "python",
   "pygments_lexer": "ipython3",
   "version": "3.10.12"
  }
 },
 "nbformat": 4,
 "nbformat_minor": 2
}
