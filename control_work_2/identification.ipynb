{
 "cells": [
  {
   "cell_type": "code",
   "execution_count": 11,
   "metadata": {},
   "outputs": [
    {
     "name": "stdout",
     "output_type": "stream",
     "text": [
      "L: \n",
      " [[-37.]\n",
      " [ 56.]\n",
      " [ 22.]]\n",
      "\n",
      "Asymptotic identificator matrix: \n",
      "[[-36.  -1. -37.]\n",
      " [ 56.   1.  55.]\n",
      " [ 14.  12.  17.]]\n"
     ]
    }
   ],
   "source": [
    "from problem import *\n",
    "from stabilization_regulator import regulator\n",
    "\n",
    "res_stab = regulator(P, Q, lamdas)\n",
    "res_id = regulator(P.T, -R.T, 4 * lamdas)\n",
    "# for matr_name, matr in res_id.items():\n",
    "#     print(f\"{matr_name}: \\n{matr}\\n\")\n",
    "print(f\"L: \\n {res_id['M'].T}\\n\")\n",
    "\n",
    "print(f\"Asymptotic identificator matrix: \\n{P + Q @ res_stab['M'] - res_id['M'].T @ R}\")"
   ]
  }
 ],
 "metadata": {
  "kernelspec": {
   "display_name": "Python 3",
   "language": "python",
   "name": "python3"
  },
  "language_info": {
   "codemirror_mode": {
    "name": "ipython",
    "version": 3
   },
   "file_extension": ".py",
   "mimetype": "text/x-python",
   "name": "python",
   "nbconvert_exporter": "python",
   "pygments_lexer": "ipython3",
   "version": "3.10.12"
  }
 },
 "nbformat": 4,
 "nbformat_minor": 2
}
