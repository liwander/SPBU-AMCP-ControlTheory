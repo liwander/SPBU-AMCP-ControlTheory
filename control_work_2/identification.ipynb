{
 "cells": [
  {
   "cell_type": "code",
   "execution_count": 1,
   "metadata": {},
   "outputs": [
    {
     "name": "stdout",
     "output_type": "stream",
     "text": [
      "c: \n",
      "[[-15. -44. -68.]]\n",
      "\n",
      "Cbar: \n",
      "[[-37.  56.  22.]]\n",
      "\n",
      "K: \n",
      "[[ 1.  3.  5.]\n",
      " [ 0.  0. -2.]\n",
      " [ 1.  1.  1.]]\n",
      "\n",
      "P0: \n",
      "[[ 0.  0.  4.]\n",
      " [ 1.  0. -4.]\n",
      " [ 0.  1.  3.]]\n",
      "\n",
      "Q0: \n",
      "[[1.]\n",
      " [0.]\n",
      " [0.]]\n",
      "\n",
      "T: \n",
      "[[ 1. -3.  4.]\n",
      " [ 0.  1. -3.]\n",
      " [ 0.  0.  1.]]\n",
      "\n",
      "Pbar: \n",
      "[[ 3. -4.  4.]\n",
      " [ 1.  0. -0.]\n",
      " [ 0.  1.  0.]]\n",
      "\n",
      "Asymptotic identificator matrix: \n",
      "[[ -36.   -1.  -37.]\n",
      " [  56.    1.   55.]\n",
      " [-103.   75.    8.]]\n",
      "L: \n",
      " [[-37.]\n",
      " [ 56.]\n",
      " [ 22.]]\n",
      "\n"
     ]
    }
   ],
   "source": [
    "from problem import *\n",
    "from stabilization_regulator import regulator\n",
    "\n",
    "res_stab = regulator(P, Q, lamdas)\n",
    "res_id = regulator(P.T, -R.T, lamdas)\n",
    "for matr_name, matr in res_id.items():\n",
    "    print(f\"{matr_name}: \\n{matr}\\n\")\n",
    "print(f\"Asymptotic identificator matrix: \\n{P + Q @ res_stab['Cbar'] - res_id['Cbar'].T @ R}\")\n",
    "print(f\"L: \\n {res_id['Cbar'].T}\\n\")"
   ]
  }
 ],
 "metadata": {
  "kernelspec": {
   "display_name": "Python 3",
   "language": "python",
   "name": "python3"
  },
  "language_info": {
   "codemirror_mode": {
    "name": "ipython",
    "version": 3
   },
   "file_extension": ".py",
   "mimetype": "text/x-python",
   "name": "python",
   "nbconvert_exporter": "python",
   "pygments_lexer": "ipython3",
   "version": "3.10.12"
  }
 },
 "nbformat": 4,
 "nbformat_minor": 2
}
