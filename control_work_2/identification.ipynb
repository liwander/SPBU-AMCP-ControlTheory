{
 "cells": [
  {
   "cell_type": "code",
   "execution_count": 1,
   "metadata": {},
   "outputs": [
    {
     "name": "stdout",
     "output_type": "stream",
     "text": [
      "c: \n",
      "[[-6.  1. -5.]]\n",
      "\n",
      "M: \n",
      "[[ 5.5 -2.   0.5]]\n",
      "\n",
      "K: \n",
      "[[-1. -3. -5.]\n",
      " [ 0.  0.  2.]\n",
      " [-1. -1. -1.]]\n",
      "\n",
      "P0: \n",
      "[[ 0.  0.  4.]\n",
      " [ 1.  0. -4.]\n",
      " [ 0.  1.  3.]]\n",
      "\n",
      "T: \n",
      "[[ 1. -3.  4.]\n",
      " [ 0.  1. -3.]\n",
      " [ 0.  0.  1.]]\n",
      "\n",
      "L: \n",
      " [[ 5.5]\n",
      " [-2. ]\n",
      " [ 0.5]]\n"
     ]
    }
   ],
   "source": [
    "from problem import *\n",
    "from stabilization_regulator import regulator\n",
    "\n",
    "res = regulator(P.T, R.T, lamdas)\n",
    "for matr_name, matr in res.items():\n",
    "    print(f\"{matr_name}: \\n{matr}\\n\")\n",
    "print(f\"L: \\n {res['M'].T}\")"
   ]
  }
 ],
 "metadata": {
  "kernelspec": {
   "display_name": "Python 3",
   "language": "python",
   "name": "python3"
  },
  "language_info": {
   "codemirror_mode": {
    "name": "ipython",
    "version": 3
   },
   "file_extension": ".py",
   "mimetype": "text/x-python",
   "name": "python",
   "nbconvert_exporter": "python",
   "pygments_lexer": "ipython3",
   "version": "3.10.12"
  }
 },
 "nbformat": 4,
 "nbformat_minor": 2
}
