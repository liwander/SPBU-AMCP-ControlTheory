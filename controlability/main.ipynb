{
 "cells": [
  {
   "cell_type": "code",
   "execution_count": 46,
   "metadata": {},
   "outputs": [
    {
     "name": "stdout",
     "output_type": "stream",
     "text": [
      "A: Matrix([[0, 3, 1, 0], [1, 0, -a, 0], [a, 0, 0, 0], [0, 0, -3, 0]])\n",
      "B: Matrix([[0], [g], [0], [1]])\n"
     ]
    }
   ],
   "source": [
    "import sympy as sp\n",
    "import numpy as np\n",
    "\n",
    "a, g = sp.symbols('a, g')\n",
    "A = sp.Matrix([[0, 3, 1, 0],\n",
    "               [1, 0, -a, 0],\n",
    "               [a, 0, 0, 0],\n",
    "               [0, 0, -3, 0]])\n",
    "\n",
    "B = sp.Matrix([0, g, 0, 1])\n",
    "\n",
    "print(f'A: {A}')\n",
    "print(f'B: {B}')"
   ]
  },
  {
   "cell_type": "code",
   "execution_count": 47,
   "metadata": {},
   "outputs": [
    {
     "name": "stdout",
     "output_type": "stream",
     "text": [
      "K : Matrix([[0, 3*g, 0, g*(3*a + 9)], [g, 0, 3*g, -3*a**2*g], [0, 0, 3*a*g, 0], [1, 0, 0, -9*a*g]])\n"
     ]
    }
   ],
   "source": [
    "K = sp.Matrix.hstack(B, A @ B, (A ** 2) @ B, (A ** 3) @ B)\n",
    "print(f'K : {K}')"
   ]
  },
  {
   "cell_type": "code",
   "execution_count": 48,
   "metadata": {},
   "outputs": [
    {
     "name": "stdout",
     "output_type": "stream",
     "text": [
      "3*a*g*(-9*a**2*g**2 + 27*a*g**3)\n"
     ]
    }
   ],
   "source": [
    "detK = sp.det(K)\n",
    "print(detK)"
   ]
  },
  {
   "cell_type": "code",
   "execution_count": 49,
   "metadata": {},
   "outputs": [
    {
     "data": {
      "text/plain": [
       "[(0, g), (3*g, g), (a, 0)]"
      ]
     },
     "execution_count": 49,
     "metadata": {},
     "output_type": "execute_result"
    }
   ],
   "source": [
    "sp.solve(detK, a, g)"
   ]
  }
 ],
 "metadata": {
  "kernelspec": {
   "display_name": "Python 3",
   "language": "python",
   "name": "python3"
  },
  "language_info": {
   "codemirror_mode": {
    "name": "ipython",
    "version": 3
   },
   "file_extension": ".py",
   "mimetype": "text/x-python",
   "name": "python",
   "nbconvert_exporter": "python",
   "pygments_lexer": "ipython3",
   "version": "3.10.12"
  }
 },
 "nbformat": 4,
 "nbformat_minor": 2
}
